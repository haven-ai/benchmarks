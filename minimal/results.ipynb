{
 "cells": [
  {
   "cell_type": "code",
   "execution_count": 1,
   "metadata": {},
   "outputs": [
    {
     "data": {
      "application/javascript": [
       "\n",
       "        require.config({\n",
       "            paths: {\n",
       "                DT: '//cdn.datatables.net/1.10.19/js/jquery.dataTables.min',\n",
       "            }\n",
       "        });\n",
       "        $('head').append('<link rel=\"stylesheet\" type=\"text/css\" href=\"//cdn.datatables.net/1.10.19/css/jquery.dataTables.min.css\">');\n",
       "    "
      ],
      "text/plain": [
       "<IPython.core.display.Javascript object>"
      ]
     },
     "metadata": {},
     "output_type": "display_data"
    },
    {
     "data": {
      "text/html": [
       "<style>.container { width:100% !important; }</style>"
      ],
      "text/plain": [
       "<IPython.core.display.HTML object>"
      ]
     },
     "metadata": {},
     "output_type": "display_data"
    }
   ],
   "source": [
    "\n",
    "from haven import haven_jupyter as hj\n",
    "from haven import haven_results as hr\n",
    "from haven import haven_dropbox as hd\n",
    "from haven import haven_utils as hu\n",
    "\n",
    "hj.init_datatable_mode()\n",
    "from IPython.core.display import display, HTML\n",
    "display(HTML(\"<style>.container { width:100% !important; }</style>\"))\n",
    "          "
   ]
  },
  {
   "cell_type": "code",
   "execution_count": 2,
   "metadata": {},
   "outputs": [
    {
     "name": "stderr",
     "output_type": "stream",
     "text": [
      "\r",
      "  0%|          | 0/6 [00:00<?, ?it/s]"
     ]
    },
    {
     "name": "stderr",
     "output_type": "stream",
     "text": [
      "\r",
      "100%|██████████| 6/6 [00:00<00:00, 2799.94it/s]"
     ]
    },
    {
     "name": "stderr",
     "output_type": "stream",
     "text": [
      "\n"
     ]
    },
    {
     "data": {
      "application/javascript": [
       "$(element).html(`<table border=\"1\" class=\"dataframe table table-striped table-bordered\">\n",
       "  <thead>\n",
       "    <tr style=\"text-align: right;\">\n",
       "      <th>batch_size</th>\n",
       "      <th>dataset</th>\n",
       "      <th>lr</th>\n",
       "      <th>max_epoch</th>\n",
       "      <th>model</th>\n",
       "      <th>train_loss</th>\n",
       "      <th>val_acc</th>\n",
       "      <th>epoch</th>\n",
       "    </tr>\n",
       "  </thead>\n",
       "  <tbody>\n",
       "    <tr>\n",
       "      <td>NaN</td>\n",
       "      <td>NaN</td>\n",
       "      <td>NaN</td>\n",
       "      <td>NaN</td>\n",
       "      <td>NaN</td>\n",
       "      <td>NaN</td>\n",
       "      <td>NaN</td>\n",
       "      <td>NaN</td>\n",
       "    </tr>\n",
       "    <tr>\n",
       "      <td>32.0</td>\n",
       "      <td>mnist</td>\n",
       "      <td>0.001</td>\n",
       "      <td>50.0</td>\n",
       "      <td>mlp</td>\n",
       "      <td>0.449 (0.449-1.497)</td>\n",
       "      <td>0.892 (0.826-0.892)</td>\n",
       "      <td>3.0</td>\n",
       "    </tr>\n",
       "    <tr>\n",
       "      <td>32.0</td>\n",
       "      <td>NaN</td>\n",
       "      <td>0.001</td>\n",
       "      <td>50.0</td>\n",
       "      <td>NaN</td>\n",
       "      <td>0.714 (0.714-1.512)</td>\n",
       "      <td>0.867 (0.837-0.867)</td>\n",
       "      <td>1.0</td>\n",
       "    </tr>\n",
       "  </tbody>\n",
       "</table>`);\n",
       "\n",
       "            require([\"DT\"], function(DT) {\n",
       "                $(document).ready( () => {\n",
       "                    // Turn existing table into datatable\n",
       "                    $(element).find(\"table.dataframe\").DataTable();\n",
       "                })\n",
       "            });\n",
       "        "
      ],
      "text/html": [
       "<div>\n",
       "<style scoped>\n",
       "    .dataframe tbody tr th:only-of-type {\n",
       "        vertical-align: middle;\n",
       "    }\n",
       "\n",
       "    .dataframe tbody tr th {\n",
       "        vertical-align: top;\n",
       "    }\n",
       "\n",
       "    .dataframe thead th {\n",
       "        text-align: right;\n",
       "    }\n",
       "</style>\n",
       "<table border=\"1\" class=\"dataframe\">\n",
       "  <thead>\n",
       "    <tr style=\"text-align: right;\">\n",
       "      <th></th>\n",
       "      <th>batch_size</th>\n",
       "      <th>dataset</th>\n",
       "      <th>lr</th>\n",
       "      <th>max_epoch</th>\n",
       "      <th>model</th>\n",
       "      <th>train_loss</th>\n",
       "      <th>val_acc</th>\n",
       "      <th>epoch</th>\n",
       "    </tr>\n",
       "    <tr>\n",
       "      <th>exp_id</th>\n",
       "      <th></th>\n",
       "      <th></th>\n",
       "      <th></th>\n",
       "      <th></th>\n",
       "      <th></th>\n",
       "      <th></th>\n",
       "      <th></th>\n",
       "      <th></th>\n",
       "    </tr>\n",
       "  </thead>\n",
       "  <tbody>\n",
       "    <tr>\n",
       "      <th>768423e1eac2153d44a1d1bcc5f577bf</th>\n",
       "      <td>NaN</td>\n",
       "      <td>NaN</td>\n",
       "      <td>NaN</td>\n",
       "      <td>NaN</td>\n",
       "      <td>NaN</td>\n",
       "      <td>NaN</td>\n",
       "      <td>NaN</td>\n",
       "      <td>NaN</td>\n",
       "    </tr>\n",
       "    <tr>\n",
       "      <th>8d7da569af8633c1ba4ec423419dc700</th>\n",
       "      <td>32.0</td>\n",
       "      <td>mnist</td>\n",
       "      <td>0.001</td>\n",
       "      <td>50.0</td>\n",
       "      <td>mlp</td>\n",
       "      <td>0.449 (0.449-1.497)</td>\n",
       "      <td>0.892 (0.826-0.892)</td>\n",
       "      <td>3.0</td>\n",
       "    </tr>\n",
       "    <tr>\n",
       "      <th>4edfc1b2a3d3b8eb0341c9ff256f851d</th>\n",
       "      <td>32.0</td>\n",
       "      <td>NaN</td>\n",
       "      <td>0.001</td>\n",
       "      <td>50.0</td>\n",
       "      <td>NaN</td>\n",
       "      <td>0.714 (0.714-1.512)</td>\n",
       "      <td>0.867 (0.837-0.867)</td>\n",
       "      <td>1.0</td>\n",
       "    </tr>\n",
       "  </tbody>\n",
       "</table>\n",
       "</div>"
      ],
      "text/plain": [
       "                                  batch_size dataset     lr  max_epoch model  \\\n",
       "exp_id                                                                         \n",
       "768423e1eac2153d44a1d1bcc5f577bf         NaN     NaN    NaN        NaN   NaN   \n",
       "8d7da569af8633c1ba4ec423419dc700        32.0   mnist  0.001       50.0   mlp   \n",
       "4edfc1b2a3d3b8eb0341c9ff256f851d        32.0     NaN  0.001       50.0   NaN   \n",
       "\n",
       "                                           train_loss              val_acc  \\\n",
       "exp_id                                                                       \n",
       "768423e1eac2153d44a1d1bcc5f577bf                  NaN                  NaN   \n",
       "8d7da569af8633c1ba4ec423419dc700  0.449 (0.449-1.497)  0.892 (0.826-0.892)   \n",
       "4edfc1b2a3d3b8eb0341c9ff256f851d  0.714 (0.714-1.512)  0.867 (0.837-0.867)   \n",
       "\n",
       "                                  epoch  \n",
       "exp_id                                   \n",
       "768423e1eac2153d44a1d1bcc5f577bf    NaN  \n",
       "8d7da569af8633c1ba4ec423419dc700    3.0  \n",
       "4edfc1b2a3d3b8eb0341c9ff256f851d    1.0  "
      ]
     },
     "metadata": {},
     "output_type": "display_data"
    },
    {
     "data": {
      "image/png": "[encoded data removed]",
      "text/plain": [
       "<Figure size 1152x432 with 2 Axes>"
      ]
     },
     "metadata": {
      "needs_background": "light"
     },
     "output_type": "display_data"
    },
    {
     "name": "stdout",
     "output_type": "stream",
     "text": [
      "Exp: 768423e1eac2153d44a1d1bcc5f577bf\n",
      "no images in /Users/issamou/Research_Ground/results/768423e1eac2153d44a1d1bcc5f577bf/images\n",
      "Exp: 8d7da569af8633c1ba4ec423419dc700\n",
      "no images in /Users/issamou/Research_Ground/results/8d7da569af8633c1ba4ec423419dc700/images\n",
      "Exp: 4edfc1b2a3d3b8eb0341c9ff256f851d\n",
      "no images in /Users/issamou/Research_Ground/results/4edfc1b2a3d3b8eb0341c9ff256f851d/images\n"
     ]
    }
   ],
   "source": [
    "\n",
    "# create result manager\n",
    "rm = hr.ResultManager(savedir_base='/Users/issamou/Research_Ground/results')\n",
    "\n",
    "# filter experiments\n",
    "rm.filter(regard_dict_list=None,\n",
    "                    groupby_list = None)\n",
    "\n",
    "# get scores\n",
    "df_list = rm.get_scores()\n",
    "for df in df_list:\n",
    "    display(df)\n",
    "\n",
    "# plot\n",
    "rm.get_plots(y_list=['train_loss', 'val_acc'], transpose=True, \n",
    "             x_name='epoch', legend_list=['model'], \n",
    "             title_list=['dataset'])\n",
    "\n",
    "# show images\n",
    "rm.get_images(legend_list=['model'])\n",
    "          "
   ]
  },
  {
   "cell_type": "code",
   "execution_count": 3,
   "metadata": {},
   "outputs": [
    {
     "name": "stdout",
     "output_type": "stream",
     "text": [
      "haven_job_utils not found...\n"
     ]
    }
   ],
   "source": [
    "\n",
    "# get job status\n",
    "rm.get_jobs(print_errors=True, job_utils_path='results')\n",
    "          "
   ]
  }
 ],
 "metadata": {
  "language_info": {
   "codemirror_mode": {
    "name": "ipython",
    "version": 3
   },
   "file_extension": ".py",
   "mimetype": "text/x-python",
   "name": "python",
   "nbconvert_exporter": "python",
   "pygments_lexer": "ipython3",
   "version": "3.7.6"
  }
 },
 "nbformat": 4,
 "nbformat_minor": 4
}
