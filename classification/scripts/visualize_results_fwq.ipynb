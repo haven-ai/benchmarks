{
 "cells": [
  {
   "cell_type": "code",
   "execution_count": null,
   "metadata": {},
   "outputs": [],
   "source": [
    "from haven import haven_jupyter as hj\n",
    "from haven import haven_results as hr\n",
    "from haven import haven_utils as hu\n",
    "savedir_base = '/home/fwq/shared/results/classification'\n",
    "fname = '/home/fwq/projects/def-dnowrouz-ab/fwq/haven-benchmarks/classification/exp_configs.py'\n",
    "exp_list = []\n",
    "for exp_group in [\n",
    "    'mnist_learning_rate', \n",
    "    'mnist_batch_size'\n",
    "                 ]:\n",
    "    exp_list += hu.load_py(fname).EXP_GROUPS[exp_group]\n",
    "# # get experiments\n",
    "rm = hr.ResultManager(exp_list=exp_list, \n",
    "                      savedir_base=savedir_base, \n",
    "                      verbose=0\n",
    "                     )\n",
    "hj.get_dashboard(rm, vars(), wide_display=True)"
   ]
  }
 ],
 "metadata": {
  "kernelspec": {
   "display_name": "Python 3",
   "language": "python",
   "name": "python3"
  },
  "language_info": {
   "codemirror_mode": {
    "name": "ipython",
    "version": 3
   },
   "file_extension": ".py",
   "mimetype": "text/x-python",
   "name": "python",
   "nbconvert_exporter": "python",
   "pygments_lexer": "ipython3",
   "version": "3.6.5"
  }
 },
 "nbformat": 4,
 "nbformat_minor": 4
}
