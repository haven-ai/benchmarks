{
 "cells": [
  {
   "cell_type": "markdown",
   "metadata": {},
   "source": [
    "One of the most time consuming is having a workflow.\n",
    "\n",
    "With Haven you will get the following advantages:\n",
    "- Self contained experiment folders, each having\n",
    "- Quick way to filter experiments\n",
    "- \n",
    "- Visualization tools\n",
    "\n"
   ]
  },
  {
   "cell_type": "markdown",
   "metadata": {},
   "source": [
    "Overview of the workflow"
   ]
  },
  {
   "cell_type": "code",
   "execution_count": null,
   "metadata": {},
   "outputs": [],
   "source": [
    "# 0. Create a simple training validation loop\n",
    "from torch import nn\n",
    "from torch import optim\n",
    "\n",
    "def trainval(exp_dict, savedir_base):\n",
    "    x = nn.Parameter(torch.zeros(10))\n",
    "    f = lambda x: torch.norm(x - torch.randn(10))\n",
    "    \n",
    "    if exp_dict['opt'] == 'adam':\n",
    "        opt = optim.Adam(x)\n",
    "        \n",
    "        \n",
    "    score_list = []\n",
    "    for e in range(10):\n",
    "        score\n",
    "        print()\n",
    "        \n",
    "        \n",
    "    "
   ]
  },
  {
   "cell_type": "markdown",
   "metadata": {},
   "source": []
  },
  {
   "cell_type": "code",
   "execution_count": 3,
   "metadata": {},
   "outputs": [
    {
     "name": "stdout",
     "output_type": "stream",
     "text": [
      "[{'opt': 'adam'}, {'opt': 'sgd'}, {'opt': 'adagrad'}]\n"
     ]
    }
   ],
   "source": [
    "# 1. Define a possibly large Experiment Group\n",
    "import pprint\n",
    "exp_list = []\n",
    "for opt_name in ['adam', 'sgd', 'adagrad']:\n",
    "    exp_list += [{'opt':opt_name}]\n",
    "pprint.pprint(exp_list)"
   ]
  },
  {
   "cell_type": "markdown",
   "metadata": {},
   "source": []
  },
  {
   "cell_type": "code",
   "execution_count": null,
   "metadata": {},
   "outputs": [],
   "source": [
    "savedir_base = 'results/'\n",
    "for exp_dict in exp_list:\n",
    "    trainval(exp_dict, savedir_base)"
   ]
  },
  {
   "cell_type": "code",
   "execution_count": null,
   "metadata": {},
   "outputs": [],
   "source": []
  },
  {
   "cell_type": "code",
   "execution_count": null,
   "metadata": {},
   "outputs": [],
   "source": [
    "# Load table"
   ]
  },
  {
   "cell_type": "code",
   "execution_count": null,
   "metadata": {},
   "outputs": [],
   "source": [
    "# Load plots"
   ]
  },
  {
   "cell_type": "code",
   "execution_count": null,
   "metadata": {},
   "outputs": [],
   "source": [
    "# Load Dashboard"
   ]
  },
  {
   "cell_type": "code",
   "execution_count": null,
   "metadata": {},
   "outputs": [],
   "source": [
    "# Save results"
   ]
  },
  {
   "cell_type": "code",
   "execution_count": null,
   "metadata": {},
   "outputs": [],
   "source": [
    "# Run in parallel"
   ]
  },
  {
   "cell_type": "code",
   "execution_count": null,
   "metadata": {},
   "outputs": [],
   "source": [
    "# 3.1 Run Experiments in Sequence"
   ]
  },
  {
   "cell_type": "code",
   "execution_count": null,
   "metadata": {},
   "outputs": [],
   "source": [
    "# 3.2 Run Experiments in Parallel"
   ]
  },
  {
   "cell_type": "code",
   "execution_count": null,
   "metadata": {},
   "outputs": [],
   "source": [
    "# 4.1 Visualize Experiments"
   ]
  }
 ],
 "metadata": {
  "kernelspec": {
   "display_name": "Python 3.7.6 64-bit ('isps': conda)",
   "language": "python",
   "name": "python37664bitispscondaa0185bcbda5b4466a68171643fa94405"
  },
  "language_info": {
   "codemirror_mode": {
    "name": "ipython",
    "version": 3
   },
   "file_extension": ".py",
   "mimetype": "text/x-python",
   "name": "python",
   "nbconvert_exporter": "python",
   "pygments_lexer": "ipython3",
   "version": "3.7.6"
  }
 },
 "nbformat": 4,
 "nbformat_minor": 4
}
