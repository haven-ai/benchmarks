{
 "cells": [
  {
   "cell_type": "code",
   "execution_count": 1,
   "metadata": {},
   "outputs": [
    {
     "data": {
      "text/plain": [
       "'Selected 2/2 experiments using \"filterby_list\"'"
      ]
     },
     "metadata": {},
     "output_type": "display_data"
    },
    {
     "data": {
      "application/vnd.jupyter.widget-view+json": {
       "model_id": "ff7ab046448f49b797f06b39ed650509",
       "version_major": 2,
       "version_minor": 0
      },
      "text/plain": [
       "VBox(children=(Label(value='Select exp_group', layout=Layout(width='200px')), HBox(children=(Dropdown(layout=L…"
      ]
     },
     "metadata": {},
     "output_type": "display_data"
    },
    {
     "data": {
      "application/javascript": [
       "\n",
       "        require.config({\n",
       "            paths: {\n",
       "                DT: '//cdn.datatables.net/1.10.19/js/jquery.dataTables.min',\n",
       "            }\n",
       "        });\n",
       "        $('head').append('<link rel=\"stylesheet\" type=\"text/css\" href=\"//cdn.datatables.net/1.10.19/css/jquery.dataTables.min.css\">');\n",
       "    "
      ],
      "text/plain": [
       "<IPython.core.display.Javascript object>"
      ]
     },
     "metadata": {},
     "output_type": "display_data"
    },
    {
     "data": {
      "application/vnd.jupyter.widget-view+json": {
       "model_id": "30dbbf6fdd3847e09390155ae57e52ab",
       "version_major": 2,
       "version_minor": 0
      },
      "text/plain": [
       "Output()"
      ]
     },
     "metadata": {},
     "output_type": "display_data"
    },
    {
     "data": {
      "text/html": [
       "<style>.container { width:100% !important; }</style>"
      ],
      "text/plain": [
       "<IPython.core.display.HTML object>"
      ]
     },
     "metadata": {},
     "output_type": "display_data"
    },
    {
     "data": {
      "text/html": [
       "\n",
       "        <style>\n",
       "            .output_scroll {\n",
       "                height: unset !important;\n",
       "                border-radius: unset !important;\n",
       "                -webkit-box-shadow: unset !important;\n",
       "                box-shadow: unset !important;\n",
       "            }\n",
       "        </style>\n",
       "        "
      ],
      "text/plain": [
       "<IPython.core.display.HTML object>"
      ]
     },
     "metadata": {},
     "output_type": "display_data"
    },
    {
     "data": {
      "text/plain": [
       "<haven.haven_jupyter.DashboardManager at 0x1f2033c68b0>"
      ]
     },
     "execution_count": 1,
     "metadata": {},
     "output_type": "execute_result"
    }
   ],
   "source": [
    "from haven import haven_jupyter as hj\n",
    "from haven import haven_results as hr\n",
    "from haven import haven_utils as hu\n",
    "savedir_base = '/home/xhdeng/shared/results/classification'\n",
    "fname = '/home/xhdeng/projects/def-dnowrouz-ab/xhdeng/haven-benchmarks/classification/exp_configs.py'\n",
    "exp_list = []\n",
    "for exp_group in [\n",
    "    'mnist_learning_rate', \n",
    "    'mnist_batch_size'\n",
    "                 ]:\n",
    "    exp_list += hu.load_py(fname).EXP_GROUPS[exp_group]\n",
    "# # get experiments\n",
    "rm = hr.ResultManager(exp_list=exp_list, \n",
    "                      savedir_base=savedir_base, \n",
    "                      verbose=0\n",
    "                     )\n",
    "hj.get_dashboard(rm, vars(), wide_display=True)"
   ]
  },
  {
   "cell_type": "code",
   "execution_count": null,
   "metadata": {},
   "outputs": [],
   "source": []
  }
 ],
 "metadata": {
  "kernelspec": {
   "display_name": "Python 3",
   "language": "python",
   "name": "python3"
  },
  "language_info": {
   "codemirror_mode": {
    "name": "ipython",
    "version": 3
   },
   "file_extension": ".py",
   "mimetype": "text/x-python",
   "name": "python",
   "nbconvert_exporter": "python",
   "pygments_lexer": "ipython3",
   "version": "3.6.5"
  }
 },
 "nbformat": 4,
 "nbformat_minor": 4
}
